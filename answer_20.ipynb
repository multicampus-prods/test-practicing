{
 "cells": [
  {
   "cell_type": "markdown",
   "id": "17e91d82",
   "metadata": {},
   "source": [
    "# [ProDS Asso] Set5"
   ]
  },
  {
   "cell_type": "code",
   "execution_count": 1,
   "id": "8882e186",
   "metadata": {},
   "outputs": [],
   "source": [
    "import pandas as pd\n",
    "import numpy as np"
   ]
  },
  {
   "cell_type": "code",
   "execution_count": 2,
   "id": "04f3561d",
   "metadata": {},
   "outputs": [
    {
     "data": {
      "text/plain": [
       "France     5014\n",
       "Germany    2509\n",
       "Spain      2477\n",
       "Name: Geography, dtype: int64"
      ]
     },
     "execution_count": 2,
     "metadata": {},
     "output_type": "execute_result"
    }
   ],
   "source": [
    "churn=pd.read_csv('churn2.csv')\n",
    "\n",
    "churn.columns\n",
    "# ['CustomerId', 'CreditScore', 'Geography', 'Gender', 'Age', 'Tenure',\n",
    "#        'Balance', 'NumOfProducts', 'EstimatedSalary', 'Exited']\n",
    "churn.isna().sum()\n",
    "churn.Geography.value_counts()"
   ]
  },
  {
   "cell_type": "markdown",
   "id": "a9986461",
   "metadata": {},
   "source": [
    "## Q1 (결측치 제거된 데이터셋명:'basetable'로 사용)"
   ]
  },
  {
   "cell_type": "code",
   "execution_count": 3,
   "id": "b245dccd",
   "metadata": {},
   "outputs": [
    {
     "name": "stdout",
     "output_type": "stream",
     "text": [
      "100015\n"
     ]
    }
   ],
   "source": [
    "q1=churn.dropna()\n",
    "basetable=q1.copy()\n",
    "q1_ans=q1[q1.Geography=='Spain']['EstimatedSalary'].median()\n",
    "print(int(q1_ans)) # 100015.79\n",
    "\n",
    "\n",
    "# 답) 100015"
   ]
  },
  {
   "cell_type": "markdown",
   "id": "284bf8c8",
   "metadata": {},
   "source": [
    "## Q2"
   ]
  },
  {
   "cell_type": "code",
   "execution_count": 4,
   "id": "b6e66a3b",
   "metadata": {},
   "outputs": [
    {
     "name": "stdout",
     "output_type": "stream",
     "text": [
      "2.73\n"
     ]
    }
   ],
   "source": [
    "from scipy.stats import ttest_ind\n",
    "\n",
    "q2=ttest_ind(basetable[basetable.Exited==1]['CreditScore'],\n",
    "          basetable[basetable.Exited==0]['CreditScore'])\n",
    "\n",
    "# basetable.groupby('Geography').mean()\n",
    "\n",
    "q2_ans=round(abs(q2.statistic),2)\n",
    "\n",
    "print(q2_ans) # 2.7287427794456387\n",
    "\n",
    "\n",
    "# 답: 2.73"
   ]
  },
  {
   "cell_type": "markdown",
   "id": "81fc26d6",
   "metadata": {},
   "source": [
    "## Q3"
   ]
  },
  {
   "cell_type": "code",
   "execution_count": 5,
   "id": "ebcdb937",
   "metadata": {},
   "outputs": [
    {
     "data": {
      "text/plain": [
       "0.8"
      ]
     },
     "execution_count": 5,
     "metadata": {},
     "output_type": "execute_result"
    }
   ],
   "source": [
    "from sklearn.tree import DecisionTreeClassifier\n",
    "from sklearn.metrics import f1_score, confusion_matrix, accuracy_score\n",
    "\n",
    "\n",
    "q3=basetable.copy()\n",
    "\n",
    "train=q3.copy()\n",
    "test=q3[q3.Type == 'test']\n",
    "\n",
    "var_list=['CreditScore', 'Gender', 'Age',\n",
    "          'Balance', 'NumOfProducts', 'Tenure']\n",
    "  \n",
    "# 'CreditScore', 'Balance', 'Tenure', 'NumOfProducts', 'EstimatedSalary'\n",
    "\n",
    "dt=DecisionTreeClassifier(random_state=123, min_samples_leaf=3)\n",
    "dt.fit(train[var_list], train['Exited'])\n",
    "\n",
    "q3_pred=dt.predict(test[var_list])\n",
    "\n",
    "\n",
    "round(f1_score(test['Exited'], q3_pred),2)\n",
    "\n",
    "# 답: 0.80"
   ]
  },
  {
   "cell_type": "markdown",
   "id": "a9cab6b9",
   "metadata": {},
   "source": [
    "## 참고"
   ]
  },
  {
   "cell_type": "code",
   "execution_count": 6,
   "id": "e6b4141a",
   "metadata": {},
   "outputs": [
    {
     "data": {
      "text/plain": [
       "0.9239783653846154"
      ]
     },
     "execution_count": 6,
     "metadata": {},
     "output_type": "execute_result"
    }
   ],
   "source": [
    "accuracy_score(test['Exited'], q3_pred) # 0.92"
   ]
  },
  {
   "cell_type": "code",
   "execution_count": 7,
   "id": "4e8375dc",
   "metadata": {},
   "outputs": [
    {
     "data": {
      "text/plain": [
       "array([[2553,   89],\n",
       "       [ 164,  522]], dtype=int64)"
      ]
     },
     "execution_count": 7,
     "metadata": {},
     "output_type": "execute_result"
    }
   ],
   "source": [
    "confusion_matrix(test['Exited'], q3_pred)"
   ]
  }
 ],
 "metadata": {
  "kernelspec": {
   "display_name": "Python 3 (ipykernel)",
   "language": "python",
   "name": "python3"
  },
  "language_info": {
   "codemirror_mode": {
    "name": "ipython",
    "version": 3
   },
   "file_extension": ".py",
   "mimetype": "text/x-python",
   "name": "python",
   "nbconvert_exporter": "python",
   "pygments_lexer": "ipython3",
   "version": "3.9.13"
  }
 },
 "nbformat": 4,
 "nbformat_minor": 5
}
