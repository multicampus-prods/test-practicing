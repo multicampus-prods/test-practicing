{
 "cells": [
  {
   "cell_type": "markdown",
   "id": "64bd3572",
   "metadata": {},
   "source": [
    "# [ProDS Asso] Set3"
   ]
  },
  {
   "cell_type": "code",
   "execution_count": 1,
   "id": "cef98e5b",
   "metadata": {},
   "outputs": [
    {
     "data": {
      "text/plain": [
       "Date          int64\n",
       "Location     object\n",
       "PM10        float64\n",
       "PM25        float64\n",
       "O3          float64\n",
       "NO2         float64\n",
       "CO          float64\n",
       "SO2         float64\n",
       "Warning       int64\n",
       "dtype: object"
      ]
     },
     "execution_count": 1,
     "metadata": {},
     "output_type": "execute_result"
    }
   ],
   "source": [
    "import pandas as pd\n",
    "import numpy as np\n",
    "\n",
    "dat=pd.read_csv(\"seoul_air2.csv\")\n",
    "dat.dtypes"
   ]
  },
  {
   "cell_type": "markdown",
   "id": "9cfd2f9f",
   "metadata": {},
   "source": [
    "## Q1"
   ]
  },
  {
   "cell_type": "code",
   "execution_count": 2,
   "id": "1ec88f7e",
   "metadata": {},
   "outputs": [
    {
     "data": {
      "text/plain": [
       "'종로구'"
      ]
     },
     "execution_count": 2,
     "metadata": {},
     "output_type": "execute_result"
    }
   ],
   "source": [
    "q1=dat[dat.Date.astype('str').str.slice(4,6) == '03']\n",
    "\n",
    "q1_out=q1.groupby('Location')['PM10'].mean()\n",
    "\n",
    "q1_out.idxmax()\n",
    "\n",
    "# 답: 종로구"
   ]
  },
  {
   "cell_type": "markdown",
   "id": "0f92a16e",
   "metadata": {},
   "source": [
    "## Q2"
   ]
  },
  {
   "cell_type": "code",
   "execution_count": 3,
   "id": "87a51e63",
   "metadata": {},
   "outputs": [
    {
     "data": {
      "text/plain": [
       "3.11"
      ]
     },
     "execution_count": 3,
     "metadata": {},
     "output_type": "execute_result"
    }
   ],
   "source": [
    "q2=pd.crosstab(index=dat.Warning, columns=dat.Location)\n",
    "\n",
    "from scipy.stats import chi2_contingency\n",
    "\n",
    "\n",
    "q2_out=chi2_contingency(q2, correction=False)\n",
    "\n",
    "round(q2_out[0],2)\n",
    "\n",
    "# 답: 3.11"
   ]
  },
  {
   "cell_type": "markdown",
   "id": "91a1fb53",
   "metadata": {},
   "source": [
    "## Q3"
   ]
  },
  {
   "cell_type": "code",
   "execution_count": 4,
   "id": "cc6bd092",
   "metadata": {},
   "outputs": [
    {
     "data": {
      "text/plain": [
       "6"
      ]
     },
     "execution_count": 4,
     "metadata": {},
     "output_type": "execute_result"
    }
   ],
   "source": [
    "q3=pd.pivot_table(data=dat, \n",
    "                  index=\"Date\", \n",
    "                  values=[\"PM10\", \"PM25\", \"O3\", \"NO2\", \"CO\", \"SO2\"]).reset_index()\n",
    "\n",
    "\n",
    "q3['target']=np.where(((q3.PM10 > 30) | (q3.PM25 > 40)), 1, 0)\n",
    "\n",
    "\n",
    "q3['month']=q3.Date.astype('str').str.slice(4,6)\n",
    "train=q3[q3.month!=\"07\"]\n",
    "test=q3[q3.month==\"07\"]\n",
    "\n",
    "from sklearn.tree import DecisionTreeClassifier\n",
    "\n",
    "var_list=[\"O3\", \"NO2\", \"CO\", \"SO2\"]\n",
    "dt=DecisionTreeClassifier(random_state=123)\n",
    "dt.fit(train[var_list], train.target)\n",
    "q3_pred=dt.predict(test[var_list])\n",
    "\n",
    "q3_out=sum((test.target==1)&(q3_pred==1))\n",
    "q3_out\n",
    "# 답: 6"
   ]
  },
  {
   "cell_type": "code",
   "execution_count": null,
   "id": "e37e04dc",
   "metadata": {},
   "outputs": [],
   "source": []
  }
 ],
 "metadata": {
  "kernelspec": {
   "display_name": "Python 3",
   "language": "python",
   "name": "python3"
  },
  "language_info": {
   "codemirror_mode": {
    "name": "ipython",
    "version": 3
   },
   "file_extension": ".py",
   "mimetype": "text/x-python",
   "name": "python",
   "nbconvert_exporter": "python",
   "pygments_lexer": "ipython3",
   "version": "3.8.8"
  }
 },
 "nbformat": 4,
 "nbformat_minor": 5
}
