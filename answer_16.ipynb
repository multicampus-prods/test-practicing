{
 "cells": [
  {
   "cell_type": "markdown",
   "id": "fab615b0",
   "metadata": {},
   "source": [
    "# [ProDS Asso] Set1"
   ]
  },
  {
   "cell_type": "code",
   "execution_count": 1,
   "id": "5c8e1001",
   "metadata": {},
   "outputs": [
    {
     "name": "stderr",
     "output_type": "stream",
     "text": [
      "C:\\Anaconda3\\lib\\site-packages\\numpy\\_distributor_init.py:30: UserWarning: loaded more than 1 DLL from .libs:\n",
      "C:\\Anaconda3\\lib\\site-packages\\numpy\\.libs\\libopenblas.WCDJNK7YVMPZQ2ME2ZZHJJRJ3JIKNDB7.gfortran-win_amd64.dll\n",
      "C:\\Anaconda3\\lib\\site-packages\\numpy\\.libs\\libopenblas.XWYDX2IKJW2NMTWSFYNGFUWKQU3LYTCZ.gfortran-win_amd64.dll\n",
      "  warnings.warn(\"loaded more than 1 DLL from .libs:\"\n"
     ]
    }
   ],
   "source": [
    "import pandas as pd\n",
    "import numpy as np"
   ]
  },
  {
   "cell_type": "code",
   "execution_count": 2,
   "id": "e843110f",
   "metadata": {},
   "outputs": [
    {
     "data": {
      "text/plain": [
       "array(['EmployeeNumber', 'Gender', 'City', 'JobTitle', 'Age',\n",
       "       'LengthService', 'AbsentHours', 'AbsentRate'], dtype=object)"
      ]
     },
     "execution_count": 2,
     "metadata": {},
     "output_type": "execute_result"
    }
   ],
   "source": [
    "# =============================================================================\n",
    "# 데이터 읽기 및 데이터 타입 확인\n",
    "# =============================================================================\n",
    "\n",
    "dat1=pd.read_csv(\"employ.csv\")\n",
    "dat1.dtypes\n",
    "\n",
    "\n",
    "dat1.describe()\n",
    "\n",
    "dat1.columns.values\n",
    "#array(['EmployeeNumber', 'Surname', 'GivenName', 'Gender', 'City',\n",
    "#       'JobTitle', 'DepartmentName', 'StoreLocation', 'Division', 'Age',\n",
    "#       'LengthService', 'AbsentHours', 'AbsetRate', 'BusinessUnit']"
   ]
  },
  {
   "cell_type": "code",
   "execution_count": 3,
   "id": "a596713c",
   "metadata": {},
   "outputs": [
    {
     "name": "stdout",
     "output_type": "stream",
     "text": [
      "<class 'pandas.core.frame.DataFrame'>\n",
      "RangeIndex: 8165 entries, 0 to 8164\n",
      "Data columns (total 8 columns):\n",
      " #   Column          Non-Null Count  Dtype  \n",
      "---  ------          --------------  -----  \n",
      " 0   EmployeeNumber  8165 non-null   int64  \n",
      " 1   Gender          8165 non-null   int64  \n",
      " 2   City            8165 non-null   object \n",
      " 3   JobTitle        8165 non-null   object \n",
      " 4   Age             8165 non-null   float64\n",
      " 5   LengthService   8165 non-null   float64\n",
      " 6   AbsentHours     8165 non-null   float64\n",
      " 7   AbsentRate      8165 non-null   float64\n",
      "dtypes: float64(4), int64(2), object(2)\n",
      "memory usage: 510.4+ KB\n"
     ]
    }
   ],
   "source": [
    "dat1.info()"
   ]
  },
  {
   "cell_type": "markdown",
   "id": "6d670d2d",
   "metadata": {},
   "source": [
    "## Q1"
   ]
  },
  {
   "cell_type": "code",
   "execution_count": 4,
   "id": "7f00b03f",
   "metadata": {},
   "outputs": [
    {
     "data": {
      "text/plain": [
       "1453"
      ]
     },
     "execution_count": 4,
     "metadata": {},
     "output_type": "execute_result"
    }
   ],
   "source": [
    "q1 = dat1.copy()\n",
    "\n",
    "q1['Absent']=np.where(q1['AbsentHours']>0,1,0) \n",
    "\n",
    "q1.groupby('City')['Absent'].sum().max()\n",
    "\n",
    "# 답: 1453\n",
    "\n",
    "## 참고\n",
    "#Vancouver        1453\n",
    "#Victoria          572\n",
    "#New Westminster   453\n",
    "#Burnaby           290\n",
    "#Surrey            223"
   ]
  },
  {
   "cell_type": "markdown",
   "id": "c35d3b4b",
   "metadata": {},
   "source": [
    "## Q2"
   ]
  },
  {
   "cell_type": "code",
   "execution_count": 5,
   "id": "cfef0f27",
   "metadata": {},
   "outputs": [
    {
     "data": {
      "text/plain": [
       "61.95"
      ]
     },
     "execution_count": 5,
     "metadata": {},
     "output_type": "execute_result"
    }
   ],
   "source": [
    "q2=dat1.copy()\n",
    "\n",
    "q2['AbsentOver']=np.where(q2['AbsentHours']> 151, 1, 0) # 1(초과), 0(미만)\n",
    "\n",
    "\n",
    "from scipy.stats import chi2_contingency\n",
    "\n",
    "q2_tab=pd.crosstab(q2['Gender'], q2['AbsentOver'])\n",
    "q2_out=chi2_contingency(q2_tab, correction=False)\n",
    "\n",
    "round(q2_out[0], 2)\n",
    "\n",
    "\n",
    "# 답: 61.95"
   ]
  },
  {
   "cell_type": "markdown",
   "id": "c3e840e2",
   "metadata": {},
   "source": [
    "## Q3"
   ]
  },
  {
   "cell_type": "code",
   "execution_count": 6,
   "id": "b3fbab3a",
   "metadata": {},
   "outputs": [
    {
     "data": {
      "text/plain": [
       "3.03"
      ]
     },
     "execution_count": 6,
     "metadata": {},
     "output_type": "execute_result"
    }
   ],
   "source": [
    "dat2015_x=dat1[['Age', 'LengthService', 'Gender']]\n",
    "dat2015_y=dat1['AbsentRate']\n",
    "\n",
    "dat2016_x=dat2015_x.copy()\n",
    "dat2016_x[['Age', 'LengthService']]=dat2016_x[['Age', 'LengthService']]+1\n",
    "\n",
    "\n",
    "from sklearn.linear_model import LinearRegression\n",
    "\n",
    "lm1=LinearRegression()\n",
    "\n",
    "lm1.fit(X=dat2015_x, y=dat2015_y)\n",
    "pred=lm1.predict(dat2016_x)\n",
    "\n",
    "round(np.mean(pred),2)\n",
    "\n",
    "# 답: 3.03"
   ]
  },
  {
   "cell_type": "code",
   "execution_count": null,
   "id": "dd90f6f4",
   "metadata": {},
   "outputs": [],
   "source": []
  }
 ],
 "metadata": {
  "kernelspec": {
   "display_name": "Python 3",
   "language": "python",
   "name": "python3"
  },
  "language_info": {
   "codemirror_mode": {
    "name": "ipython",
    "version": 3
   },
   "file_extension": ".py",
   "mimetype": "text/x-python",
   "name": "python",
   "nbconvert_exporter": "python",
   "pygments_lexer": "ipython3",
   "version": "3.8.8"
  }
 },
 "nbformat": 4,
 "nbformat_minor": 5
}
