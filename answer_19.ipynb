{
 "cells": [
  {
   "cell_type": "markdown",
   "id": "8e445ac1",
   "metadata": {},
   "source": [
    "# [ProDS Asso] Set4"
   ]
  },
  {
   "cell_type": "code",
   "execution_count": 1,
   "id": "668b19d5",
   "metadata": {},
   "outputs": [
    {
     "name": "stderr",
     "output_type": "stream",
     "text": [
      "C:\\Anaconda3\\lib\\site-packages\\numpy\\_distributor_init.py:30: UserWarning: loaded more than 1 DLL from .libs:\n",
      "C:\\Anaconda3\\lib\\site-packages\\numpy\\.libs\\libopenblas.WCDJNK7YVMPZQ2ME2ZZHJJRJ3JIKNDB7.gfortran-win_amd64.dll\n",
      "C:\\Anaconda3\\lib\\site-packages\\numpy\\.libs\\libopenblas.XWYDX2IKJW2NMTWSFYNGFUWKQU3LYTCZ.gfortran-win_amd64.dll\n",
      "  warnings.warn(\"loaded more than 1 DLL from .libs:\"\n"
     ]
    },
    {
     "data": {
      "text/plain": [
       "Index(['Channel', 'Region', 'Fresh', 'Milk', 'Grocery', 'Frozen',\n",
       "       'Detergents_Paper', 'Delicassen', 'Type'],\n",
       "      dtype='object')"
      ]
     },
     "execution_count": 1,
     "metadata": {},
     "output_type": "execute_result"
    }
   ],
   "source": [
    "import pandas as pd\n",
    "import numpy as np\n",
    "\n",
    "dat4 = pd.read_csv(\"Mart.csv\")\n",
    "\n",
    "\n",
    "dat4.columns"
   ]
  },
  {
   "cell_type": "markdown",
   "id": "6610d020",
   "metadata": {},
   "source": [
    "## Q1"
   ]
  },
  {
   "cell_type": "code",
   "execution_count": 2,
   "id": "c243dc94",
   "metadata": {},
   "outputs": [
    {
     "data": {
      "text/plain": [
       "Fresh               0.207535\n",
       "Milk                0.469553\n",
       "Grocery             0.345756\n",
       "Frozen              0.338845\n",
       "Detergents_Paper    0.229406\n",
       "Name: Delicassen, dtype: float64"
      ]
     },
     "execution_count": 2,
     "metadata": {},
     "output_type": "execute_result"
    }
   ],
   "source": [
    "q1=dat4[dat4.Region == 1].drop(columns=['Channel','Region', 'Type'])\n",
    "q1_out=q1.corr()['Delicassen'].drop('Delicassen').abs()\n",
    "q1_out"
   ]
  },
  {
   "cell_type": "code",
   "execution_count": 3,
   "id": "6922bc0b",
   "metadata": {},
   "outputs": [
    {
     "data": {
      "text/plain": [
       "'Milk'"
      ]
     },
     "execution_count": 3,
     "metadata": {},
     "output_type": "execute_result"
    }
   ],
   "source": [
    "q1_out.idxmax()\n",
    "# round(q1_out.max(),2)\n",
    "\n",
    "# 답: Milk(0.47)"
   ]
  },
  {
   "cell_type": "markdown",
   "id": "05587ccf",
   "metadata": {},
   "source": [
    "## Q2"
   ]
  },
  {
   "cell_type": "code",
   "execution_count": 4,
   "id": "d118c567",
   "metadata": {},
   "outputs": [
    {
     "data": {
      "text/plain": [
       "1.38"
      ]
     },
     "execution_count": 4,
     "metadata": {},
     "output_type": "execute_result"
    }
   ],
   "source": [
    "from scipy.stats import ttest_ind, bartlett\n",
    "\n",
    "g1=dat4[dat4.Channel == 1]['Delicassen']\n",
    "g2=dat4[dat4.Channel == 2]['Delicassen']\n",
    "\n",
    "# bartlett(g1, g2)\n",
    "\n",
    "\n",
    "q2=ttest_ind(g1, g2, equal_var=False)\n",
    "round(abs(q2.statistic),2)"
   ]
  },
  {
   "cell_type": "markdown",
   "id": "9d5ddadc",
   "metadata": {},
   "source": [
    "## Q3"
   ]
  },
  {
   "cell_type": "code",
   "execution_count": 5,
   "id": "6ca548e6",
   "metadata": {},
   "outputs": [
    {
     "data": {
      "text/plain": [
       "2.264"
      ]
     },
     "execution_count": 5,
     "metadata": {},
     "output_type": "execute_result"
    }
   ],
   "source": [
    "var_list=['Fresh', 'Milk', 'Grocery', 'Frozen', 'Detergents_Paper']\n",
    "\n",
    "from sklearn.linear_model import LinearRegression\n",
    "from sklearn.metrics import mean_absolute_percentage_error\n",
    "\n",
    "train=dat4[dat4.Type=='train']\n",
    "test=dat4[dat4.Type=='test']\n",
    "\n",
    "lm=LinearRegression().fit(train[var_list], train['Delicassen'])\n",
    "pred=lm.predict(test[var_list])\n",
    "q3=mean_absolute_percentage_error(test['Delicassen'], pred)\n",
    "\n",
    "round(q3,3)\n",
    "\n",
    "# 답: 2.264"
   ]
  },
  {
   "cell_type": "code",
   "execution_count": null,
   "id": "e62073a3",
   "metadata": {},
   "outputs": [],
   "source": []
  }
 ],
 "metadata": {
  "kernelspec": {
   "display_name": "Python 3",
   "language": "python",
   "name": "python3"
  },
  "language_info": {
   "codemirror_mode": {
    "name": "ipython",
    "version": 3
   },
   "file_extension": ".py",
   "mimetype": "text/x-python",
   "name": "python",
   "nbconvert_exporter": "python",
   "pygments_lexer": "ipython3",
   "version": "3.8.8"
  }
 },
 "nbformat": 4,
 "nbformat_minor": 5
}
