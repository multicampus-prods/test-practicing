{
 "cells": [
  {
   "cell_type": "markdown",
   "id": "a2e02f3c",
   "metadata": {},
   "source": [
    "# [ProDS Asso] Set2"
   ]
  },
  {
   "cell_type": "code",
   "execution_count": 1,
   "id": "0cfe90fd",
   "metadata": {},
   "outputs": [],
   "source": [
    "import pandas as pd\n",
    "import numpy as np"
   ]
  },
  {
   "cell_type": "code",
   "execution_count": 2,
   "id": "520fd8f7",
   "metadata": {},
   "outputs": [
    {
     "data": {
      "text/plain": [
       "26-35    184510\n",
       "36-45     95036\n",
       "18-25     83542\n",
       "46-50     38522\n",
       "51-55     32473\n",
       "55+       17809\n",
       "0-17      13450\n",
       "Name: Age, dtype: int64"
      ]
     },
     "execution_count": 2,
     "metadata": {},
     "output_type": "execute_result"
    }
   ],
   "source": [
    "# =============================================================================\n",
    "# 데이터 읽기 및 데이터 타입 확인\n",
    "# =============================================================================\n",
    "\n",
    "dat2=pd.read_csv(\"BlackFriday.csv\")\n",
    "dat2.dtypes\n",
    "\n",
    "\n",
    "dat2.columns.values\n",
    "# ['User_ID', 'Product_ID', 'Gender', 'Age', 'Occupation',\n",
    "#  'City_Category', 'Stay_In_Current_City_Years', 'Marital_Status',\n",
    "#  'Product_Category', 'Purchase', 'Type']\n",
    "\n",
    "dat2.Age.value_counts()"
   ]
  },
  {
   "cell_type": "markdown",
   "id": "263e2110",
   "metadata": {},
   "source": [
    "## Q1"
   ]
  },
  {
   "cell_type": "code",
   "execution_count": 3,
   "id": "0572d983",
   "metadata": {},
   "outputs": [
    {
     "data": {
      "text/plain": [
       "<AxesSubplot:xlabel='City_Category', ylabel='Purchase'>"
      ]
     },
     "execution_count": 3,
     "metadata": {},
     "output_type": "execute_result"
    },
    {
     "data": {
      "image/png": "[encoded data removed]",
      "text/plain": [
       "<Figure size 640x480 with 1 Axes>"
      ]
     },
     "metadata": {},
     "output_type": "display_data"
    }
   ],
   "source": [
    "q1 = dat2.copy()\n",
    "\n",
    "\n",
    "import seaborn as sns\n",
    "\n",
    "sns.boxplot(data=q1, y='Purchase', x='City_Category')"
   ]
  },
  {
   "cell_type": "code",
   "execution_count": 4,
   "id": "a9087154",
   "metadata": {},
   "outputs": [
    {
     "data": {
      "text/plain": [
       "651.0"
      ]
     },
     "execution_count": 4,
     "metadata": {},
     "output_type": "execute_result"
    }
   ],
   "source": [
    "q1_tab=q1.groupby('City_Category')['Purchase'].median()\n",
    "\n",
    "abs(q1_tab.max() - q1_tab.min())\n",
    "\n",
    "# 답: 651"
   ]
  },
  {
   "cell_type": "markdown",
   "id": "66c033ab",
   "metadata": {},
   "source": [
    "## Q2"
   ]
  },
  {
   "cell_type": "code",
   "execution_count": 5,
   "id": "32d3b2f8",
   "metadata": {},
   "outputs": [
    {
     "data": {
      "text/plain": [
       "0.769"
      ]
     },
     "execution_count": 5,
     "metadata": {},
     "output_type": "execute_result"
    }
   ],
   "source": [
    "import numpy as np\n",
    "import scipy\n",
    "import scipy.stats\n",
    "\n",
    "from scipy.stats import ttest_ind\n",
    "\n",
    "q2=pd.pivot_table(dat2, index='User_ID',columns='Age',\n",
    "                  values='Purchase', aggfunc='sum')\n",
    "\n",
    "\n",
    "q2_45=q2['46-50'].dropna()\n",
    "q2_51=q2['51-55'].dropna()\n",
    "\n",
    "\n",
    "## default 등분산 가정\n",
    "out1=ttest_ind(q2_45, q2_51, equal_var=True)\n",
    "np.trunc(out1.pvalue*1000)/1000\n",
    "\n",
    "\n",
    "# 답: 0.769"
   ]
  },
  {
   "cell_type": "markdown",
   "id": "b42185a1",
   "metadata": {},
   "source": [
    "## Q3"
   ]
  },
  {
   "cell_type": "code",
   "execution_count": 6,
   "id": "821a319c",
   "metadata": {},
   "outputs": [
    {
     "data": {
      "text/plain": [
       "0.98"
      ]
     },
     "execution_count": 6,
     "metadata": {},
     "output_type": "execute_result"
    }
   ],
   "source": [
    "q3=dat2.copy()\n",
    "\n",
    "\n",
    "q3['VIP'].value_counts()\n",
    "\n",
    "train=q3[q3.Type == 'train']\n",
    "test=q3[q3.Type == 'test']\n",
    "\n",
    "train.columns\n",
    "\n",
    "var_list= ['Gender', 'City_Category_B', 'City_Category_C',\n",
    "  'Occupation_1', 'Occupation_2', 'Occupation_3', 'Occupation_4',\n",
    "  'Occupation_5', 'Occupation_6', 'Occupation_7', 'Occupation_8',\n",
    "  'Occupation_9', 'Occupation_10', 'Occupation_11', 'Occupation_12',\n",
    "  'Occupation_13', 'Occupation_14', 'Occupation_15', 'Occupation_16',\n",
    "  'Occupation_17', 'Occupation_18', 'Occupation_19', 'Occupation_20',\n",
    "  'Marital_Status']\n",
    "\n",
    "\n",
    "from sklearn.linear_model import LogisticRegression\n",
    "from sklearn.metrics import recall_score, confusion_matrix\n",
    "\n",
    "logit=LogisticRegression(random_state=123, solver='newton-cg', C=100000)\n",
    "logit.fit(train[var_list],train['VIP'])\n",
    "\n",
    "pred=logit.predict(test[var_list])\n",
    "\n",
    "round(recall_score(test['VIP'], pred, pos_label=1),2)\n",
    "\n",
    "\n",
    "# 답: 0.98"
   ]
  },
  {
   "cell_type": "code",
   "execution_count": 7,
   "id": "e4a76110",
   "metadata": {},
   "outputs": [
    {
     "data": {
      "text/plain": [
       "array([[  2259,  23025],\n",
       "       [  1890, 112336]], dtype=int64)"
      ]
     },
     "execution_count": 7,
     "metadata": {},
     "output_type": "execute_result"
    }
   ],
   "source": [
    "confusion_matrix(test['VIP'], pred)"
   ]
  }
 ],
 "metadata": {
  "kernelspec": {
   "display_name": "Python 3",
   "language": "python",
   "name": "python3"
  },
  "language_info": {
   "codemirror_mode": {
    "name": "ipython",
    "version": 3
   },
   "file_extension": ".py",
   "mimetype": "text/x-python",
   "name": "python",
   "nbconvert_exporter": "python",
   "pygments_lexer": "ipython3",
   "version": "3.8.8"
  }
 },
 "nbformat": 4,
 "nbformat_minor": 5
}
